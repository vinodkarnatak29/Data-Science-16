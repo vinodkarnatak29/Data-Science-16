{
 "cells": [
  {
   "cell_type": "code",
   "execution_count": 10,
   "metadata": {},
   "outputs": [],
   "source": [
    "#Problem Statement 1: \n",
    "\n",
    "#A test is conducted which is consisting of 20 MCQs (multiple choices questions) with every MCQ having its four options out of which only one is correct. \n",
    "#Determine the probability that a person undertaking that test has answered exactly 5 questions wrong.\n",
    "\n",
    "#clearly above is a case of Binomial Distribution.\n",
    "\n",
    "#Note: Two solutions are below:\n"
   ]
  },
  {
   "cell_type": "markdown",
   "metadata": {},
   "source": [
    "#solution 1\n",
    "\n",
    "Here, n = 20, n - k = 5, k = 20 - 5 = 15\n",
    "\n",
    "Here the probability of success = probability of giving a right answer = s = 1/4\n",
    "\n",
    "Hence, the probability of failure = probability of giving a wrong answer = 1 - s \n",
    "= 1 - 1/4 = 3/4\n",
    "\n",
    "When we substitute these values in the formula for Binomial distribution we get,\n",
    "\n",
    "So, P (exactly 5 out of 20 answers incorrect) = C(20,5)*((1/4)^15) * ((3/4)^5)\n",
    "=((20∗19∗18∗17∗16)/(5∗4∗3∗2∗1))*((1/4) ^15)*(3/4)^5)\n",
    "= 0.0000034 (approximately)"
   ]
  },
  {
   "cell_type": "code",
   "execution_count": 11,
   "metadata": {},
   "outputs": [
    {
     "name": "stdout",
     "output_type": "stream",
     "text": [
      "0.0000034\n"
     ]
    }
   ],
   "source": [
    "#solution 2\n",
    "\n",
    "from scipy.stats import binom\n",
    "\n",
    "k= 15  #total number of right questions\n",
    "n= 20  #total number of questions\n",
    "p= 0.25 #Probability of right question 1/4\n",
    "\n",
    "# binom.pmf(k,n,p) is probability mass function\n",
    "result= binom.pmf(k,n,p)\n",
    "print(\"{:.7f}\".format(float(result)))"
   ]
  },
  {
   "cell_type": "code",
   "execution_count": 12,
   "metadata": {},
   "outputs": [],
   "source": [
    "#Problem 2. A die marked A to E is rolled 50 times. Find the probability of getting a “D” exactly 5 times.\n",
    "\n",
    "#similarly above is also of Binomial Distribution case."
   ]
  },
  {
   "cell_type": "markdown",
   "metadata": {},
   "source": [
    "#solution 1\n",
    "\n",
    "Here, n = 50, k = 5, n - k = 45.\n",
    "\n",
    "The probability of success = probability of getting a “D”= s = 1/5\n",
    "\n",
    "Hence, the probability of failure = probability of not getting a “D” = 1 - s = 4/5.\n",
    "\n",
    "When we substitute these values in the formula for Binomial distribution we get,\n",
    "\n",
    "So, P (\"D\" exactly 5 times) = C(50,5)*((1/5)^5) * ((4/5)^45)\n",
    "=((50*49*48*47*46)/(5*4*3*2*1))*((1/5)^5) * ((4/5)^45)\n",
    "= 0.0295312 (approximately)"
   ]
  },
  {
   "cell_type": "code",
   "execution_count": 13,
   "metadata": {},
   "outputs": [
    {
     "name": "stdout",
     "output_type": "stream",
     "text": [
      "0.0295312\n"
     ]
    }
   ],
   "source": [
    "#Solution 2\n",
    "\n",
    "k= 5  #total number of getting D\n",
    "n= 50  #total number of die rolled\n",
    "p= 0.20 #Probability of getting D 1/5\n",
    "\n",
    "# binom.pmf(k,n,p) is probability mass function\n",
    "result= binom.pmf(k,n,p)\n",
    "print(\"{:.7f}\".format(float(result)))"
   ]
  },
  {
   "cell_type": "code",
   "execution_count": 14,
   "metadata": {},
   "outputs": [],
   "source": [
    "#Problem Statement 3: \n",
    "\n",
    "#Two balls are drawn at random in succession without replacement from an urn containing 4 red balls and 6 black balls. \n",
    "#Find the probabilities of all the possible outcomes.\n",
    "\n",
    "#Solution"
   ]
  },
  {
   "cell_type": "markdown",
   "metadata": {},
   "source": [
    "Total number Of red balls= 4\n",
    "Total number Of black balls= 6\n",
    "So, total number Of balls= 10\n",
    "\n",
    "Possible outcomes, when two balls has been taken = [(RR),(RB),(BR),(BB)]\n",
    "\n",
    "therefore,\n",
    "Probability of getting two Red ball(RR): ( 4/10)*(3/9) = 2/15 = 0.1333\n",
    "Probability of getting one black ball or one Red ball(RB,BR): (4/10)(6/9) + (6/9)(4/10) = 8/15 = 0.5333\n",
    "Probability of getting two black ball(BB): (6/10)*(5/9) = 1/3 = 0.3333\n",
    "    \n",
    "Hence, sum of all possibilities or all probability P = 0.1333 + 0.5333 + 0.3333 = 0.9999 =(almost equal to 1)    \n"
   ]
  },
  {
   "cell_type": "code",
   "execution_count": null,
   "metadata": {},
   "outputs": [],
   "source": []
  }
 ],
 "metadata": {
  "kernelspec": {
   "display_name": "Python 3",
   "language": "python",
   "name": "python3"
  },
  "language_info": {
   "codemirror_mode": {
    "name": "ipython",
    "version": 3
   },
   "file_extension": ".py",
   "mimetype": "text/x-python",
   "name": "python",
   "nbconvert_exporter": "python",
   "pygments_lexer": "ipython3",
   "version": "3.6.5"
  }
 },
 "nbformat": 4,
 "nbformat_minor": 2
}
